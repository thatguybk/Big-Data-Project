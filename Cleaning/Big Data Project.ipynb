{
 "cells": [
  {
   "cell_type": "code",
   "execution_count": 1,
   "id": "c2ba08d3-b7f9-4632-8548-ce3d8f3e3bc7",
   "metadata": {},
   "outputs": [
    {
     "name": "stdout",
     "output_type": "stream",
     "text": [
      "Requirement already satisfied: xlrd in c:\\users\\bradl\\anaconda3\\lib\\site-packages (2.0.1)\n"
     ]
    }
   ],
   "source": [
    "import pandas as pd\n",
    "import numpy as np\n",
    "import matplotlib.pyplot as plt\n",
    "from datetime import datetime\n",
    "!pip install xlrd\n"
   ]
  },
  {
   "cell_type": "code",
   "execution_count": 2,
   "id": "b1fea1f0-9673-4459-afa9-5031f867a42e",
   "metadata": {},
   "outputs": [],
   "source": [
    "ngImportPrice = pd.read_excel('Price of U.S. Natural Gas Imports (Dollars per Thousand Cubic Feet).xls', sheet_name =\"Data 1\")"
   ]
  },
  {
   "cell_type": "code",
   "execution_count": 3,
   "id": "04ab80a0-3c90-458a-954d-d16d29d958bd",
   "metadata": {},
   "outputs": [
    {
     "data": {
      "text/html": [
       "<div>\n",
       "<style scoped>\n",
       "    .dataframe tbody tr th:only-of-type {\n",
       "        vertical-align: middle;\n",
       "    }\n",
       "\n",
       "    .dataframe tbody tr th {\n",
       "        vertical-align: top;\n",
       "    }\n",
       "\n",
       "    .dataframe thead th {\n",
       "        text-align: right;\n",
       "    }\n",
       "</style>\n",
       "<table border=\"1\" class=\"dataframe\">\n",
       "  <thead>\n",
       "    <tr style=\"text-align: right;\">\n",
       "      <th></th>\n",
       "      <th>Back to Contents</th>\n",
       "      <th>Data 1: Price of U.S. Natural Gas Imports (Dollars per Thousand Cubic Feet)</th>\n",
       "    </tr>\n",
       "  </thead>\n",
       "  <tbody>\n",
       "    <tr>\n",
       "      <th>0</th>\n",
       "      <td>Sourcekey</td>\n",
       "      <td>N9100US3</td>\n",
       "    </tr>\n",
       "    <tr>\n",
       "      <th>1</th>\n",
       "      <td>Date</td>\n",
       "      <td>Price of U.S. Natural Gas Imports (Dollars per...</td>\n",
       "    </tr>\n",
       "    <tr>\n",
       "      <th>2</th>\n",
       "      <td>1989-01-15 00:00:00</td>\n",
       "      <td>1.72</td>\n",
       "    </tr>\n",
       "    <tr>\n",
       "      <th>3</th>\n",
       "      <td>1989-02-15 00:00:00</td>\n",
       "      <td>1.88</td>\n",
       "    </tr>\n",
       "    <tr>\n",
       "      <th>4</th>\n",
       "      <td>1989-03-15 00:00:00</td>\n",
       "      <td>1.81</td>\n",
       "    </tr>\n",
       "    <tr>\n",
       "      <th>...</th>\n",
       "      <td>...</td>\n",
       "      <td>...</td>\n",
       "    </tr>\n",
       "    <tr>\n",
       "      <th>429</th>\n",
       "      <td>2024-08-15 00:00:00</td>\n",
       "      <td>1.29</td>\n",
       "    </tr>\n",
       "    <tr>\n",
       "      <th>430</th>\n",
       "      <td>2024-09-15 00:00:00</td>\n",
       "      <td>1.35</td>\n",
       "    </tr>\n",
       "    <tr>\n",
       "      <th>431</th>\n",
       "      <td>2024-10-15 00:00:00</td>\n",
       "      <td>1.6</td>\n",
       "    </tr>\n",
       "    <tr>\n",
       "      <th>432</th>\n",
       "      <td>2024-11-15 00:00:00</td>\n",
       "      <td>1.92</td>\n",
       "    </tr>\n",
       "    <tr>\n",
       "      <th>433</th>\n",
       "      <td>2024-12-15 00:00:00</td>\n",
       "      <td>3.13</td>\n",
       "    </tr>\n",
       "  </tbody>\n",
       "</table>\n",
       "<p>434 rows × 2 columns</p>\n",
       "</div>"
      ],
      "text/plain": [
       "        Back to Contents  \\\n",
       "0              Sourcekey   \n",
       "1                   Date   \n",
       "2    1989-01-15 00:00:00   \n",
       "3    1989-02-15 00:00:00   \n",
       "4    1989-03-15 00:00:00   \n",
       "..                   ...   \n",
       "429  2024-08-15 00:00:00   \n",
       "430  2024-09-15 00:00:00   \n",
       "431  2024-10-15 00:00:00   \n",
       "432  2024-11-15 00:00:00   \n",
       "433  2024-12-15 00:00:00   \n",
       "\n",
       "    Data 1: Price of U.S. Natural Gas Imports (Dollars per Thousand Cubic Feet)  \n",
       "0                                             N9100US3                           \n",
       "1    Price of U.S. Natural Gas Imports (Dollars per...                           \n",
       "2                                                 1.72                           \n",
       "3                                                 1.88                           \n",
       "4                                                 1.81                           \n",
       "..                                                 ...                           \n",
       "429                                               1.29                           \n",
       "430                                               1.35                           \n",
       "431                                                1.6                           \n",
       "432                                               1.92                           \n",
       "433                                               3.13                           \n",
       "\n",
       "[434 rows x 2 columns]"
      ]
     },
     "execution_count": 3,
     "metadata": {},
     "output_type": "execute_result"
    }
   ],
   "source": [
    "ngImportPrice"
   ]
  },
  {
   "cell_type": "code",
   "execution_count": 86,
   "id": "8225a680-b0f2-49c3-9611-f80f71a13051",
   "metadata": {},
   "outputs": [
    {
     "data": {
      "text/plain": [
       "Date                                                                           0\n",
       "Data 1: Price of U.S. Natural Gas Imports (Dollars per Thousand Cubic Feet)    0\n",
       "dtype: int64"
      ]
     },
     "execution_count": 86,
     "metadata": {},
     "output_type": "execute_result"
    }
   ],
   "source": [
    "ngImportPrice.isnull().sum()"
   ]
  },
  {
   "cell_type": "code",
   "execution_count": 4,
   "id": "a51b9c72-6b15-467f-9ad9-b0e432fad1d4",
   "metadata": {},
   "outputs": [],
   "source": [
    "ngImportPrice = ngImportPrice.rename(columns={\"Back to Contents\": \"Date\"}) # Rename column to date"
   ]
  },
  {
   "cell_type": "code",
   "execution_count": 6,
   "id": "7ddac5c9-ce59-4c01-b6f9-d2f63e876dca",
   "metadata": {},
   "outputs": [],
   "source": [
    "ngImportPrice = ngImportPrice.drop(0) #drop socurce key row 0\n",
    "ngImportPrice = ngImportPrice.drop(1) #drop date in row 1"
   ]
  },
  {
   "cell_type": "code",
   "execution_count": 8,
   "id": "1816d643-08cc-4af5-bc05-6e62e8b1d5b9",
   "metadata": {},
   "outputs": [],
   "source": [
    "cutoff_date = datetime(2001, 1, 1) # set cutoff date to 2001"
   ]
  },
  {
   "cell_type": "code",
   "execution_count": 9,
   "id": "b3635f0e-cd20-4fbe-a99f-9dcdcab39cd9",
   "metadata": {},
   "outputs": [],
   "source": [
    "ngImportPrice_filtered = ngImportPrice[ngImportPrice['Date'] >= cutoff_date] #filter everything after 2001"
   ]
  },
  {
   "cell_type": "code",
   "execution_count": 76,
   "id": "fef38c02-4eba-4796-b89f-6d51ccf70e5d",
   "metadata": {},
   "outputs": [],
   "source": [
    "ngImportPrice=ngImportPrice_filtered.reset_index(drop=True) #set df = filtered df and resets the index"
   ]
  },
  {
   "cell_type": "code",
   "execution_count": 78,
   "id": "586f508d-9371-42c7-b230-81ab48c321de",
   "metadata": {},
   "outputs": [
    {
     "data": {
      "text/html": [
       "<div>\n",
       "<style scoped>\n",
       "    .dataframe tbody tr th:only-of-type {\n",
       "        vertical-align: middle;\n",
       "    }\n",
       "\n",
       "    .dataframe tbody tr th {\n",
       "        vertical-align: top;\n",
       "    }\n",
       "\n",
       "    .dataframe thead th {\n",
       "        text-align: right;\n",
       "    }\n",
       "</style>\n",
       "<table border=\"1\" class=\"dataframe\">\n",
       "  <thead>\n",
       "    <tr style=\"text-align: right;\">\n",
       "      <th></th>\n",
       "      <th>Date</th>\n",
       "      <th>Data 1: Price of U.S. Natural Gas Imports (Dollars per Thousand Cubic Feet)</th>\n",
       "    </tr>\n",
       "  </thead>\n",
       "  <tbody>\n",
       "    <tr>\n",
       "      <th>0</th>\n",
       "      <td>2001-01-15 00:00:00</td>\n",
       "      <td>9.47</td>\n",
       "    </tr>\n",
       "    <tr>\n",
       "      <th>1</th>\n",
       "      <td>2001-02-15 00:00:00</td>\n",
       "      <td>6.45</td>\n",
       "    </tr>\n",
       "    <tr>\n",
       "      <th>2</th>\n",
       "      <td>2001-03-15 00:00:00</td>\n",
       "      <td>5.42</td>\n",
       "    </tr>\n",
       "    <tr>\n",
       "      <th>3</th>\n",
       "      <td>2001-04-15 00:00:00</td>\n",
       "      <td>5.35</td>\n",
       "    </tr>\n",
       "    <tr>\n",
       "      <th>4</th>\n",
       "      <td>2001-05-15 00:00:00</td>\n",
       "      <td>4.95</td>\n",
       "    </tr>\n",
       "    <tr>\n",
       "      <th>...</th>\n",
       "      <td>...</td>\n",
       "      <td>...</td>\n",
       "    </tr>\n",
       "    <tr>\n",
       "      <th>283</th>\n",
       "      <td>2024-08-15 00:00:00</td>\n",
       "      <td>1.29</td>\n",
       "    </tr>\n",
       "    <tr>\n",
       "      <th>284</th>\n",
       "      <td>2024-09-15 00:00:00</td>\n",
       "      <td>1.35</td>\n",
       "    </tr>\n",
       "    <tr>\n",
       "      <th>285</th>\n",
       "      <td>2024-10-15 00:00:00</td>\n",
       "      <td>1.6</td>\n",
       "    </tr>\n",
       "    <tr>\n",
       "      <th>286</th>\n",
       "      <td>2024-11-15 00:00:00</td>\n",
       "      <td>1.92</td>\n",
       "    </tr>\n",
       "    <tr>\n",
       "      <th>287</th>\n",
       "      <td>2024-12-15 00:00:00</td>\n",
       "      <td>3.13</td>\n",
       "    </tr>\n",
       "  </tbody>\n",
       "</table>\n",
       "<p>288 rows × 2 columns</p>\n",
       "</div>"
      ],
      "text/plain": [
       "                    Date  \\\n",
       "0    2001-01-15 00:00:00   \n",
       "1    2001-02-15 00:00:00   \n",
       "2    2001-03-15 00:00:00   \n",
       "3    2001-04-15 00:00:00   \n",
       "4    2001-05-15 00:00:00   \n",
       "..                   ...   \n",
       "283  2024-08-15 00:00:00   \n",
       "284  2024-09-15 00:00:00   \n",
       "285  2024-10-15 00:00:00   \n",
       "286  2024-11-15 00:00:00   \n",
       "287  2024-12-15 00:00:00   \n",
       "\n",
       "    Data 1: Price of U.S. Natural Gas Imports (Dollars per Thousand Cubic Feet)  \n",
       "0                                                 9.47                           \n",
       "1                                                 6.45                           \n",
       "2                                                 5.42                           \n",
       "3                                                 5.35                           \n",
       "4                                                 4.95                           \n",
       "..                                                 ...                           \n",
       "283                                               1.29                           \n",
       "284                                               1.35                           \n",
       "285                                                1.6                           \n",
       "286                                               1.92                           \n",
       "287                                               3.13                           \n",
       "\n",
       "[288 rows x 2 columns]"
      ]
     },
     "execution_count": 78,
     "metadata": {},
     "output_type": "execute_result"
    }
   ],
   "source": [
    "ngImportPrice"
   ]
  },
  {
   "cell_type": "code",
   "execution_count": 12,
   "id": "a9bf2179-d43b-44fa-a83f-e5d6fbe1c6ae",
   "metadata": {},
   "outputs": [],
   "source": [
    "ngImport = pd.read_excel('Data 1 U.S. Natural Gas Imports (MMcf).xls', sheet_name =\"Data 1\")"
   ]
  },
  {
   "cell_type": "code",
   "execution_count": 82,
   "id": "f2bc9fba-a2d2-463d-bbd2-c972ffadb951",
   "metadata": {},
   "outputs": [
    {
     "data": {
      "text/html": [
       "<div>\n",
       "<style scoped>\n",
       "    .dataframe tbody tr th:only-of-type {\n",
       "        vertical-align: middle;\n",
       "    }\n",
       "\n",
       "    .dataframe tbody tr th {\n",
       "        vertical-align: top;\n",
       "    }\n",
       "\n",
       "    .dataframe thead th {\n",
       "        text-align: right;\n",
       "    }\n",
       "</style>\n",
       "<table border=\"1\" class=\"dataframe\">\n",
       "  <thead>\n",
       "    <tr style=\"text-align: right;\">\n",
       "      <th></th>\n",
       "      <th>Date</th>\n",
       "      <th>Data 1: U.S. Natural Gas Imports (MMcf)</th>\n",
       "    </tr>\n",
       "  </thead>\n",
       "  <tbody>\n",
       "    <tr>\n",
       "      <th>0</th>\n",
       "      <td>2001-01-15 00:00:00</td>\n",
       "      <td>373077</td>\n",
       "    </tr>\n",
       "    <tr>\n",
       "      <th>1</th>\n",
       "      <td>2001-02-15 00:00:00</td>\n",
       "      <td>328289</td>\n",
       "    </tr>\n",
       "    <tr>\n",
       "      <th>2</th>\n",
       "      <td>2001-03-15 00:00:00</td>\n",
       "      <td>358103</td>\n",
       "    </tr>\n",
       "    <tr>\n",
       "      <th>3</th>\n",
       "      <td>2001-04-15 00:00:00</td>\n",
       "      <td>318573</td>\n",
       "    </tr>\n",
       "    <tr>\n",
       "      <th>4</th>\n",
       "      <td>2001-05-15 00:00:00</td>\n",
       "      <td>321878</td>\n",
       "    </tr>\n",
       "    <tr>\n",
       "      <th>...</th>\n",
       "      <td>...</td>\n",
       "      <td>...</td>\n",
       "    </tr>\n",
       "    <tr>\n",
       "      <th>283</th>\n",
       "      <td>2024-08-15 00:00:00</td>\n",
       "      <td>260891</td>\n",
       "    </tr>\n",
       "    <tr>\n",
       "      <th>284</th>\n",
       "      <td>2024-09-15 00:00:00</td>\n",
       "      <td>246564</td>\n",
       "    </tr>\n",
       "    <tr>\n",
       "      <th>285</th>\n",
       "      <td>2024-10-15 00:00:00</td>\n",
       "      <td>253967</td>\n",
       "    </tr>\n",
       "    <tr>\n",
       "      <th>286</th>\n",
       "      <td>2024-11-15 00:00:00</td>\n",
       "      <td>270439</td>\n",
       "    </tr>\n",
       "    <tr>\n",
       "      <th>287</th>\n",
       "      <td>2024-12-15 00:00:00</td>\n",
       "      <td>309387</td>\n",
       "    </tr>\n",
       "  </tbody>\n",
       "</table>\n",
       "<p>288 rows × 2 columns</p>\n",
       "</div>"
      ],
      "text/plain": [
       "                    Date Data 1: U.S. Natural Gas Imports (MMcf)\n",
       "0    2001-01-15 00:00:00                                  373077\n",
       "1    2001-02-15 00:00:00                                  328289\n",
       "2    2001-03-15 00:00:00                                  358103\n",
       "3    2001-04-15 00:00:00                                  318573\n",
       "4    2001-05-15 00:00:00                                  321878\n",
       "..                   ...                                     ...\n",
       "283  2024-08-15 00:00:00                                  260891\n",
       "284  2024-09-15 00:00:00                                  246564\n",
       "285  2024-10-15 00:00:00                                  253967\n",
       "286  2024-11-15 00:00:00                                  270439\n",
       "287  2024-12-15 00:00:00                                  309387\n",
       "\n",
       "[288 rows x 2 columns]"
      ]
     },
     "execution_count": 82,
     "metadata": {},
     "output_type": "execute_result"
    }
   ],
   "source": [
    "ngImport"
   ]
  },
  {
   "cell_type": "code",
   "execution_count": 80,
   "id": "f88667b6-f420-4044-bf5b-3a89721ebbbf",
   "metadata": {},
   "outputs": [
    {
     "data": {
      "text/plain": [
       "Date                                       0\n",
       "Data 1: U.S. Natural Gas Imports (MMcf)    0\n",
       "dtype: int64"
      ]
     },
     "execution_count": 80,
     "metadata": {},
     "output_type": "execute_result"
    }
   ],
   "source": [
    "ngImport.isnull().sum()"
   ]
  },
  {
   "cell_type": "code",
   "execution_count": 14,
   "id": "521c731c-334d-4d77-9636-d59658d94836",
   "metadata": {},
   "outputs": [],
   "source": [
    "ngImport = ngImport.rename(columns={\"Back to Contents\": \"Date\"}) # Rename column to date"
   ]
  },
  {
   "cell_type": "code",
   "execution_count": 15,
   "id": "15a0ec47-cbc4-409a-8668-bbeda764928c",
   "metadata": {},
   "outputs": [],
   "source": [
    "ngImport = ngImport.drop(0) #drop socurce key row 0\n",
    "ngImport = ngImport.drop(1) #drop date in row 1"
   ]
  },
  {
   "cell_type": "code",
   "execution_count": 16,
   "id": "ebac27cf-81e9-480e-9ef6-768335f4e40a",
   "metadata": {},
   "outputs": [],
   "source": [
    "ngImport_filtered = ngImport[ngImport['Date'] >= cutoff_date] #filter everything after 2001"
   ]
  },
  {
   "cell_type": "code",
   "execution_count": 72,
   "id": "ace50025-33d0-4d30-acb9-be1d0a3d531e",
   "metadata": {},
   "outputs": [],
   "source": [
    "ngImport=ngImport_filtered.reset_index(drop=True) #set df = filtered df and resets index"
   ]
  },
  {
   "cell_type": "code",
   "execution_count": 74,
   "id": "39dd771d-ab42-4a66-b1c2-0556dcf83765",
   "metadata": {},
   "outputs": [
    {
     "data": {
      "text/html": [
       "<div>\n",
       "<style scoped>\n",
       "    .dataframe tbody tr th:only-of-type {\n",
       "        vertical-align: middle;\n",
       "    }\n",
       "\n",
       "    .dataframe tbody tr th {\n",
       "        vertical-align: top;\n",
       "    }\n",
       "\n",
       "    .dataframe thead th {\n",
       "        text-align: right;\n",
       "    }\n",
       "</style>\n",
       "<table border=\"1\" class=\"dataframe\">\n",
       "  <thead>\n",
       "    <tr style=\"text-align: right;\">\n",
       "      <th></th>\n",
       "      <th>Date</th>\n",
       "      <th>Data 1: U.S. Natural Gas Imports (MMcf)</th>\n",
       "    </tr>\n",
       "  </thead>\n",
       "  <tbody>\n",
       "    <tr>\n",
       "      <th>0</th>\n",
       "      <td>2001-01-15 00:00:00</td>\n",
       "      <td>373077</td>\n",
       "    </tr>\n",
       "    <tr>\n",
       "      <th>1</th>\n",
       "      <td>2001-02-15 00:00:00</td>\n",
       "      <td>328289</td>\n",
       "    </tr>\n",
       "    <tr>\n",
       "      <th>2</th>\n",
       "      <td>2001-03-15 00:00:00</td>\n",
       "      <td>358103</td>\n",
       "    </tr>\n",
       "    <tr>\n",
       "      <th>3</th>\n",
       "      <td>2001-04-15 00:00:00</td>\n",
       "      <td>318573</td>\n",
       "    </tr>\n",
       "    <tr>\n",
       "      <th>4</th>\n",
       "      <td>2001-05-15 00:00:00</td>\n",
       "      <td>321878</td>\n",
       "    </tr>\n",
       "    <tr>\n",
       "      <th>...</th>\n",
       "      <td>...</td>\n",
       "      <td>...</td>\n",
       "    </tr>\n",
       "    <tr>\n",
       "      <th>283</th>\n",
       "      <td>2024-08-15 00:00:00</td>\n",
       "      <td>260891</td>\n",
       "    </tr>\n",
       "    <tr>\n",
       "      <th>284</th>\n",
       "      <td>2024-09-15 00:00:00</td>\n",
       "      <td>246564</td>\n",
       "    </tr>\n",
       "    <tr>\n",
       "      <th>285</th>\n",
       "      <td>2024-10-15 00:00:00</td>\n",
       "      <td>253967</td>\n",
       "    </tr>\n",
       "    <tr>\n",
       "      <th>286</th>\n",
       "      <td>2024-11-15 00:00:00</td>\n",
       "      <td>270439</td>\n",
       "    </tr>\n",
       "    <tr>\n",
       "      <th>287</th>\n",
       "      <td>2024-12-15 00:00:00</td>\n",
       "      <td>309387</td>\n",
       "    </tr>\n",
       "  </tbody>\n",
       "</table>\n",
       "<p>288 rows × 2 columns</p>\n",
       "</div>"
      ],
      "text/plain": [
       "                    Date Data 1: U.S. Natural Gas Imports (MMcf)\n",
       "0    2001-01-15 00:00:00                                  373077\n",
       "1    2001-02-15 00:00:00                                  328289\n",
       "2    2001-03-15 00:00:00                                  358103\n",
       "3    2001-04-15 00:00:00                                  318573\n",
       "4    2001-05-15 00:00:00                                  321878\n",
       "..                   ...                                     ...\n",
       "283  2024-08-15 00:00:00                                  260891\n",
       "284  2024-09-15 00:00:00                                  246564\n",
       "285  2024-10-15 00:00:00                                  253967\n",
       "286  2024-11-15 00:00:00                                  270439\n",
       "287  2024-12-15 00:00:00                                  309387\n",
       "\n",
       "[288 rows x 2 columns]"
      ]
     },
     "execution_count": 74,
     "metadata": {},
     "output_type": "execute_result"
    }
   ],
   "source": [
    "ngImport"
   ]
  },
  {
   "cell_type": "code",
   "execution_count": 19,
   "id": "96cac1cd-1da6-428e-9705-aba7cb996bfa",
   "metadata": {},
   "outputs": [],
   "source": [
    "ngDeliveries = pd.read_excel('U.S. Natural Gas Deliveries to Electric Power Consumers (MMcf).xls', sheet_name =\"Data 1\")"
   ]
  },
  {
   "cell_type": "code",
   "execution_count": 92,
   "id": "1df24925-747d-46a8-b64f-c77810a3a120",
   "metadata": {},
   "outputs": [
    {
     "data": {
      "text/html": [
       "<div>\n",
       "<style scoped>\n",
       "    .dataframe tbody tr th:only-of-type {\n",
       "        vertical-align: middle;\n",
       "    }\n",
       "\n",
       "    .dataframe tbody tr th {\n",
       "        vertical-align: top;\n",
       "    }\n",
       "\n",
       "    .dataframe thead th {\n",
       "        text-align: right;\n",
       "    }\n",
       "</style>\n",
       "<table border=\"1\" class=\"dataframe\">\n",
       "  <thead>\n",
       "    <tr style=\"text-align: right;\">\n",
       "      <th></th>\n",
       "      <th>Date</th>\n",
       "      <th>Data 1: U.S. Natural Gas Deliveries to Electric Power Consumers (MMcf)</th>\n",
       "    </tr>\n",
       "  </thead>\n",
       "  <tbody>\n",
       "    <tr>\n",
       "      <th>0</th>\n",
       "      <td>2001-01-15 00:00:00</td>\n",
       "      <td>340292</td>\n",
       "    </tr>\n",
       "    <tr>\n",
       "      <th>1</th>\n",
       "      <td>2001-02-15 00:00:00</td>\n",
       "      <td>312843</td>\n",
       "    </tr>\n",
       "    <tr>\n",
       "      <th>2</th>\n",
       "      <td>2001-03-15 00:00:00</td>\n",
       "      <td>362843</td>\n",
       "    </tr>\n",
       "    <tr>\n",
       "      <th>3</th>\n",
       "      <td>2001-04-15 00:00:00</td>\n",
       "      <td>384494</td>\n",
       "    </tr>\n",
       "    <tr>\n",
       "      <th>4</th>\n",
       "      <td>2001-05-15 00:00:00</td>\n",
       "      <td>433923</td>\n",
       "    </tr>\n",
       "    <tr>\n",
       "      <th>...</th>\n",
       "      <td>...</td>\n",
       "      <td>...</td>\n",
       "    </tr>\n",
       "    <tr>\n",
       "      <th>283</th>\n",
       "      <td>2024-08-15 00:00:00</td>\n",
       "      <td>1493479</td>\n",
       "    </tr>\n",
       "    <tr>\n",
       "      <th>284</th>\n",
       "      <td>2024-09-15 00:00:00</td>\n",
       "      <td>1227936</td>\n",
       "    </tr>\n",
       "    <tr>\n",
       "      <th>285</th>\n",
       "      <td>2024-10-15 00:00:00</td>\n",
       "      <td>1070652</td>\n",
       "    </tr>\n",
       "    <tr>\n",
       "      <th>286</th>\n",
       "      <td>2024-11-15 00:00:00</td>\n",
       "      <td>992045</td>\n",
       "    </tr>\n",
       "    <tr>\n",
       "      <th>287</th>\n",
       "      <td>2024-12-15 00:00:00</td>\n",
       "      <td>1033271</td>\n",
       "    </tr>\n",
       "  </tbody>\n",
       "</table>\n",
       "<p>288 rows × 2 columns</p>\n",
       "</div>"
      ],
      "text/plain": [
       "                    Date  \\\n",
       "0    2001-01-15 00:00:00   \n",
       "1    2001-02-15 00:00:00   \n",
       "2    2001-03-15 00:00:00   \n",
       "3    2001-04-15 00:00:00   \n",
       "4    2001-05-15 00:00:00   \n",
       "..                   ...   \n",
       "283  2024-08-15 00:00:00   \n",
       "284  2024-09-15 00:00:00   \n",
       "285  2024-10-15 00:00:00   \n",
       "286  2024-11-15 00:00:00   \n",
       "287  2024-12-15 00:00:00   \n",
       "\n",
       "    Data 1: U.S. Natural Gas Deliveries to Electric Power Consumers (MMcf)  \n",
       "0                                               340292                      \n",
       "1                                               312843                      \n",
       "2                                               362843                      \n",
       "3                                               384494                      \n",
       "4                                               433923                      \n",
       "..                                                 ...                      \n",
       "283                                            1493479                      \n",
       "284                                            1227936                      \n",
       "285                                            1070652                      \n",
       "286                                             992045                      \n",
       "287                                            1033271                      \n",
       "\n",
       "[288 rows x 2 columns]"
      ]
     },
     "execution_count": 92,
     "metadata": {},
     "output_type": "execute_result"
    }
   ],
   "source": [
    "ngDeliveries"
   ]
  },
  {
   "cell_type": "code",
   "execution_count": 94,
   "id": "d5b2bf11-e81c-450f-a016-9a9e9b5ddfad",
   "metadata": {},
   "outputs": [
    {
     "data": {
      "text/plain": [
       "Date                                                                      0\n",
       "Data 1: U.S. Natural Gas Deliveries to Electric Power Consumers (MMcf)    0\n",
       "dtype: int64"
      ]
     },
     "execution_count": 94,
     "metadata": {},
     "output_type": "execute_result"
    }
   ],
   "source": [
    "ngDeliveries.isnull().sum()"
   ]
  },
  {
   "cell_type": "code",
   "execution_count": 98,
   "id": "ca885b8f-3c0d-4984-90a2-5592b94082dd",
   "metadata": {},
   "outputs": [
    {
     "name": "stderr",
     "output_type": "stream",
     "text": [
      "C:\\Users\\bradl\\AppData\\Local\\Temp\\ipykernel_24292\\1347031807.py:1: FutureWarning: The behavior of value_counts with object-dtype is deprecated. In a future version, this will *not* perform dtype inference on the resulting index. To retain the old behavior, use `result.index = result.index.infer_objects()`\n",
      "  ngDeliveries.describe(include=\"all\")\n"
     ]
    },
    {
     "data": {
      "text/html": [
       "<div>\n",
       "<style scoped>\n",
       "    .dataframe tbody tr th:only-of-type {\n",
       "        vertical-align: middle;\n",
       "    }\n",
       "\n",
       "    .dataframe tbody tr th {\n",
       "        vertical-align: top;\n",
       "    }\n",
       "\n",
       "    .dataframe thead th {\n",
       "        text-align: right;\n",
       "    }\n",
       "</style>\n",
       "<table border=\"1\" class=\"dataframe\">\n",
       "  <thead>\n",
       "    <tr style=\"text-align: right;\">\n",
       "      <th></th>\n",
       "      <th>Date</th>\n",
       "      <th>Data 1: U.S. Natural Gas Deliveries to Electric Power Consumers (MMcf)</th>\n",
       "    </tr>\n",
       "  </thead>\n",
       "  <tbody>\n",
       "    <tr>\n",
       "      <th>count</th>\n",
       "      <td>288</td>\n",
       "      <td>288</td>\n",
       "    </tr>\n",
       "    <tr>\n",
       "      <th>unique</th>\n",
       "      <td>288</td>\n",
       "      <td>288</td>\n",
       "    </tr>\n",
       "    <tr>\n",
       "      <th>top</th>\n",
       "      <td>2001-01-15 00:00:00</td>\n",
       "      <td>340292</td>\n",
       "    </tr>\n",
       "    <tr>\n",
       "      <th>freq</th>\n",
       "      <td>1</td>\n",
       "      <td>1</td>\n",
       "    </tr>\n",
       "  </tbody>\n",
       "</table>\n",
       "</div>"
      ],
      "text/plain": [
       "                       Date  \\\n",
       "count                   288   \n",
       "unique                  288   \n",
       "top     2001-01-15 00:00:00   \n",
       "freq                      1   \n",
       "\n",
       "        Data 1: U.S. Natural Gas Deliveries to Electric Power Consumers (MMcf)  \n",
       "count                                                 288                       \n",
       "unique                                                288                       \n",
       "top                                                340292                       \n",
       "freq                                                    1                       "
      ]
     },
     "execution_count": 98,
     "metadata": {},
     "output_type": "execute_result"
    }
   ],
   "source": [
    "ngDeliveries.describe(include=\"all\")"
   ]
  },
  {
   "cell_type": "code",
   "execution_count": 21,
   "id": "efd68c80-aed1-4b5b-9fed-8c8df75b00d3",
   "metadata": {},
   "outputs": [],
   "source": [
    "ngDeliveries = ngDeliveries.rename(columns={\"Back to Contents\": \"Date\"}) # Rename column to date"
   ]
  },
  {
   "cell_type": "code",
   "execution_count": 22,
   "id": "057c0798-985d-4799-94ff-3d9704084ead",
   "metadata": {},
   "outputs": [],
   "source": [
    "ngDeliveries = ngDeliveries.drop(0) #drop socurce key row 0\n",
    "ngDeliveries = ngDeliveries.drop(1) #drop date in row 1"
   ]
  },
  {
   "cell_type": "code",
   "execution_count": 23,
   "id": "0fd0a87e-b513-444c-a085-1bbef5fabb2a",
   "metadata": {},
   "outputs": [],
   "source": [
    "ngDeliveries_filtered = ngDeliveries[ngDeliveries['Date'] >= cutoff_date] #filter everything after 2001"
   ]
  },
  {
   "cell_type": "code",
   "execution_count": 68,
   "id": "1d1ab09a-1e52-44eb-9a6d-ee799a5bc822",
   "metadata": {},
   "outputs": [],
   "source": [
    "ngDeliveries=ngDeliveries_filtered.reset_index(drop=True) #set df = filtered df and resets the index"
   ]
  },
  {
   "cell_type": "code",
   "execution_count": 70,
   "id": "3b88882f-6fca-4dd7-9ea2-835634d2a313",
   "metadata": {},
   "outputs": [
    {
     "data": {
      "text/html": [
       "<div>\n",
       "<style scoped>\n",
       "    .dataframe tbody tr th:only-of-type {\n",
       "        vertical-align: middle;\n",
       "    }\n",
       "\n",
       "    .dataframe tbody tr th {\n",
       "        vertical-align: top;\n",
       "    }\n",
       "\n",
       "    .dataframe thead th {\n",
       "        text-align: right;\n",
       "    }\n",
       "</style>\n",
       "<table border=\"1\" class=\"dataframe\">\n",
       "  <thead>\n",
       "    <tr style=\"text-align: right;\">\n",
       "      <th></th>\n",
       "      <th>Date</th>\n",
       "      <th>Data 1: U.S. Natural Gas Deliveries to Electric Power Consumers (MMcf)</th>\n",
       "    </tr>\n",
       "  </thead>\n",
       "  <tbody>\n",
       "    <tr>\n",
       "      <th>0</th>\n",
       "      <td>2001-01-15 00:00:00</td>\n",
       "      <td>340292</td>\n",
       "    </tr>\n",
       "    <tr>\n",
       "      <th>1</th>\n",
       "      <td>2001-02-15 00:00:00</td>\n",
       "      <td>312843</td>\n",
       "    </tr>\n",
       "    <tr>\n",
       "      <th>2</th>\n",
       "      <td>2001-03-15 00:00:00</td>\n",
       "      <td>362843</td>\n",
       "    </tr>\n",
       "    <tr>\n",
       "      <th>3</th>\n",
       "      <td>2001-04-15 00:00:00</td>\n",
       "      <td>384494</td>\n",
       "    </tr>\n",
       "    <tr>\n",
       "      <th>4</th>\n",
       "      <td>2001-05-15 00:00:00</td>\n",
       "      <td>433923</td>\n",
       "    </tr>\n",
       "    <tr>\n",
       "      <th>...</th>\n",
       "      <td>...</td>\n",
       "      <td>...</td>\n",
       "    </tr>\n",
       "    <tr>\n",
       "      <th>283</th>\n",
       "      <td>2024-08-15 00:00:00</td>\n",
       "      <td>1493479</td>\n",
       "    </tr>\n",
       "    <tr>\n",
       "      <th>284</th>\n",
       "      <td>2024-09-15 00:00:00</td>\n",
       "      <td>1227936</td>\n",
       "    </tr>\n",
       "    <tr>\n",
       "      <th>285</th>\n",
       "      <td>2024-10-15 00:00:00</td>\n",
       "      <td>1070652</td>\n",
       "    </tr>\n",
       "    <tr>\n",
       "      <th>286</th>\n",
       "      <td>2024-11-15 00:00:00</td>\n",
       "      <td>992045</td>\n",
       "    </tr>\n",
       "    <tr>\n",
       "      <th>287</th>\n",
       "      <td>2024-12-15 00:00:00</td>\n",
       "      <td>1033271</td>\n",
       "    </tr>\n",
       "  </tbody>\n",
       "</table>\n",
       "<p>288 rows × 2 columns</p>\n",
       "</div>"
      ],
      "text/plain": [
       "                    Date  \\\n",
       "0    2001-01-15 00:00:00   \n",
       "1    2001-02-15 00:00:00   \n",
       "2    2001-03-15 00:00:00   \n",
       "3    2001-04-15 00:00:00   \n",
       "4    2001-05-15 00:00:00   \n",
       "..                   ...   \n",
       "283  2024-08-15 00:00:00   \n",
       "284  2024-09-15 00:00:00   \n",
       "285  2024-10-15 00:00:00   \n",
       "286  2024-11-15 00:00:00   \n",
       "287  2024-12-15 00:00:00   \n",
       "\n",
       "    Data 1: U.S. Natural Gas Deliveries to Electric Power Consumers (MMcf)  \n",
       "0                                               340292                      \n",
       "1                                               312843                      \n",
       "2                                               362843                      \n",
       "3                                               384494                      \n",
       "4                                               433923                      \n",
       "..                                                 ...                      \n",
       "283                                            1493479                      \n",
       "284                                            1227936                      \n",
       "285                                            1070652                      \n",
       "286                                             992045                      \n",
       "287                                            1033271                      \n",
       "\n",
       "[288 rows x 2 columns]"
      ]
     },
     "execution_count": 70,
     "metadata": {},
     "output_type": "execute_result"
    }
   ],
   "source": [
    "ngDeliveries"
   ]
  },
  {
   "cell_type": "code",
   "execution_count": null,
   "id": "c32ddd24-33bf-46cf-97ec-c89693e4ccda",
   "metadata": {},
   "outputs": [],
   "source": []
  }
 ],
 "metadata": {
  "kernelspec": {
   "display_name": "Python [conda env:base] *",
   "language": "python",
   "name": "conda-base-py"
  },
  "language_info": {
   "codemirror_mode": {
    "name": "ipython",
    "version": 3
   },
   "file_extension": ".py",
   "mimetype": "text/x-python",
   "name": "python",
   "nbconvert_exporter": "python",
   "pygments_lexer": "ipython3",
   "version": "3.12.7"
  }
 },
 "nbformat": 4,
 "nbformat_minor": 5
}
