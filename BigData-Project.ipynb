{
 "cells": [
  {
   "cell_type": "code",
   "execution_count": 13,
   "id": "026c8a10-eca5-4a67-a3a0-b2d90a2f042b",
   "metadata": {},
   "outputs": [],
   "source": [
    "import pandas as pd\n",
    "import numpy as np\n",
    "import matplotlib.pyplot as plt\n",
    "from datetime import datetime\n",
    "import requests"
   ]
  },
  {
   "cell_type": "code",
   "execution_count": 79,
   "id": "6838e7ca-1eee-4e26-844d-41b9a0f11878",
   "metadata": {},
   "outputs": [],
   "source": [
    "api_key = 'U6sb1HoirBgbZJOO9ACr2Vdtk6xMk4TjvHpr0YlB'\n",
    "base_url = 'https://api.eia.gov/v2/natural-gas'"
   ]
  },
  {
   "cell_type": "code",
   "execution_count": 93,
   "id": "45c5ac1f-1b78-4f79-ac58-77daf5af864d",
   "metadata": {},
   "outputs": [],
   "source": [
    "#full_request_url = f\"https://api.eia.gov/API_route?api_key={my_api_key}\""
   ]
  },
  {
   "cell_type": "code",
   "execution_count": 91,
   "id": "52a405b3-5683-4ff4-8f7f-ed1ed367845d",
   "metadata": {},
   "outputs": [],
   "source": [
    "def get_first_two():\n",
    "    data_request = []\n",
    "    number_data_rows = 2 #api standard return is 5000\n",
    "    full_request_url = f\"{base_url}/pri/sum/data/?api_key={api_key}&frequency=monthly&data[0]=value&start=2010-01&end=2025-01&sort[0][column]=period&sort[0][direction]=desc&offset=0&length={number_data_rows}\"\n",
    "    #f\"{base_url}/pri?api_key={api_key}&page={i}\"\n",
    "    response = requests.get(full_request_url)\n",
    "    data_request.append(response.json())\n",
    "    return data_request"
   ]
  },
  {
   "cell_type": "code",
   "execution_count": 95,
   "id": "68d6f7cb-35f0-46fd-9362-7b37ec6c5ad0",
   "metadata": {},
   "outputs": [
    {
     "data": {
      "text/plain": [
       "[{'response': {'warnings': [{'warning': 'incomplete return',\n",
       "     'description': 'The API can only return 5000 rows in JSON format.  Please consider constraining your request with facet, start, or end, or using offset to paginate results.'}],\n",
       "   'total': '75960',\n",
       "   'dateFormat': 'YYYY-MM',\n",
       "   'frequency': 'monthly',\n",
       "   'data': [{'period': '2024-12',\n",
       "     'duoarea': 'SND',\n",
       "     'area-name': 'USA-ND',\n",
       "     'product': 'EPG0',\n",
       "     'product-name': 'Natural Gas',\n",
       "     'process': 'PCS',\n",
       "     'process-name': 'Price Delivered to Commercial Sectors',\n",
       "     'series': 'N3020ND3',\n",
       "     'series-description': 'North Dakota Price of Natural Gas Sold to Commercial Consumers (Dollars per Thousand Cubic Feet)',\n",
       "     'value': '6.82',\n",
       "     'units': '$/MCF'},\n",
       "    {'period': '2024-12',\n",
       "     'duoarea': 'SOK',\n",
       "     'area-name': 'USA-OK',\n",
       "     'product': 'EPG0',\n",
       "     'product-name': 'Natural Gas',\n",
       "     'process': 'PCS',\n",
       "     'process-name': 'Price Delivered to Commercial Sectors',\n",
       "     'series': 'N3020OK3',\n",
       "     'series-description': 'Oklahoma Price of Natural Gas Sold to Commercial Consumers (Dollars per Thousand Cubic Feet)',\n",
       "     'value': '8.83',\n",
       "     'units': '$/MCF'}]},\n",
       "  'request': {'command': '/v2/natural-gas/pri/sum/data/',\n",
       "   'params': {'api_key': 'U6sb1HoirBgbZJOO9ACr2Vdtk6xMk4TjvHpr0YlB',\n",
       "    'frequency': 'monthly',\n",
       "    'data': ['value'],\n",
       "    'start': '2010-01',\n",
       "    'end': '2025-01',\n",
       "    'sort': [{'column': 'period', 'direction': 'desc'}],\n",
       "    'offset': '0',\n",
       "    'length': '2'}},\n",
       "  'apiVersion': '2.1.8',\n",
       "  'ExcelAddInVersion': '2.1.0'}]"
      ]
     },
     "execution_count": 95,
     "metadata": {},
     "output_type": "execute_result"
    }
   ],
   "source": [
    "request_data = get_first_two()\n",
    "request_data"
   ]
  },
  {
   "cell_type": "code",
   "execution_count": null,
   "id": "286229cb-3ac1-4d2b-8a07-14e1df6486d1",
   "metadata": {},
   "outputs": [],
   "source": []
  }
 ],
 "metadata": {
  "kernelspec": {
   "display_name": "Python [conda env:base] *",
   "language": "python",
   "name": "conda-base-py"
  },
  "language_info": {
   "codemirror_mode": {
    "name": "ipython",
    "version": 3
   },
   "file_extension": ".py",
   "mimetype": "text/x-python",
   "name": "python",
   "nbconvert_exporter": "python",
   "pygments_lexer": "ipython3",
   "version": "3.12.7"
  }
 },
 "nbformat": 4,
 "nbformat_minor": 5
}
