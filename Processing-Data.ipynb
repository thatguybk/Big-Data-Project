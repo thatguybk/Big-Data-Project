{
 "cells": [
  {
   "cell_type": "code",
   "execution_count": 1,
   "id": "bd7004fe",
   "metadata": {},
   "outputs": [],
   "source": [
    "import pandas as pd\n",
    "import numpy as np\n",
    "import matplotlib.pyplot as plt\n",
    "from datetime import datetime\n",
    "import requests"
   ]
  },
  {
   "cell_type": "code",
   "execution_count": 2,
   "id": "f7813b6c",
   "metadata": {},
   "outputs": [
    {
     "data": {
      "text/html": [
       "<div>\n",
       "<style scoped>\n",
       "    .dataframe tbody tr th:only-of-type {\n",
       "        vertical-align: middle;\n",
       "    }\n",
       "\n",
       "    .dataframe tbody tr th {\n",
       "        vertical-align: top;\n",
       "    }\n",
       "\n",
       "    .dataframe thead th {\n",
       "        text-align: right;\n",
       "    }\n",
       "</style>\n",
       "<table border=\"1\" class=\"dataframe\">\n",
       "  <thead>\n",
       "    <tr style=\"text-align: right;\">\n",
       "      <th></th>\n",
       "      <th>Back to Contents</th>\n",
       "      <th>Data 1: U.S. Natural Gas Imports (MMcf)</th>\n",
       "    </tr>\n",
       "  </thead>\n",
       "  <tbody>\n",
       "    <tr>\n",
       "      <th>0</th>\n",
       "      <td>Sourcekey</td>\n",
       "      <td>N9100US2</td>\n",
       "    </tr>\n",
       "    <tr>\n",
       "      <th>1</th>\n",
       "      <td>Date</td>\n",
       "      <td>U.S. Natural Gas Imports (MMcf)</td>\n",
       "    </tr>\n",
       "    <tr>\n",
       "      <th>2</th>\n",
       "      <td>1973-01-15 00:00:00</td>\n",
       "      <td>92694</td>\n",
       "    </tr>\n",
       "    <tr>\n",
       "      <th>3</th>\n",
       "      <td>1973-02-15 00:00:00</td>\n",
       "      <td>83870</td>\n",
       "    </tr>\n",
       "    <tr>\n",
       "      <th>4</th>\n",
       "      <td>1973-03-15 00:00:00</td>\n",
       "      <td>91581</td>\n",
       "    </tr>\n",
       "    <tr>\n",
       "      <th>...</th>\n",
       "      <td>...</td>\n",
       "      <td>...</td>\n",
       "    </tr>\n",
       "    <tr>\n",
       "      <th>621</th>\n",
       "      <td>2024-08-15 00:00:00</td>\n",
       "      <td>260891</td>\n",
       "    </tr>\n",
       "    <tr>\n",
       "      <th>622</th>\n",
       "      <td>2024-09-15 00:00:00</td>\n",
       "      <td>246564</td>\n",
       "    </tr>\n",
       "    <tr>\n",
       "      <th>623</th>\n",
       "      <td>2024-10-15 00:00:00</td>\n",
       "      <td>253967</td>\n",
       "    </tr>\n",
       "    <tr>\n",
       "      <th>624</th>\n",
       "      <td>2024-11-15 00:00:00</td>\n",
       "      <td>270439</td>\n",
       "    </tr>\n",
       "    <tr>\n",
       "      <th>625</th>\n",
       "      <td>2024-12-15 00:00:00</td>\n",
       "      <td>309387</td>\n",
       "    </tr>\n",
       "  </tbody>\n",
       "</table>\n",
       "<p>626 rows × 2 columns</p>\n",
       "</div>"
      ],
      "text/plain": [
       "        Back to Contents Data 1: U.S. Natural Gas Imports (MMcf)\n",
       "0              Sourcekey                                N9100US2\n",
       "1                   Date         U.S. Natural Gas Imports (MMcf)\n",
       "2    1973-01-15 00:00:00                                   92694\n",
       "3    1973-02-15 00:00:00                                   83870\n",
       "4    1973-03-15 00:00:00                                   91581\n",
       "..                   ...                                     ...\n",
       "621  2024-08-15 00:00:00                                  260891\n",
       "622  2024-09-15 00:00:00                                  246564\n",
       "623  2024-10-15 00:00:00                                  253967\n",
       "624  2024-11-15 00:00:00                                  270439\n",
       "625  2024-12-15 00:00:00                                  309387\n",
       "\n",
       "[626 rows x 2 columns]"
      ]
     },
     "execution_count": 2,
     "metadata": {},
     "output_type": "execute_result"
    }
   ],
   "source": [
    "dbtable = pd.read_csv('./Raw-Data/Natural_Gas_Import_Quantity.csv')\n",
    "dbtable"
   ]
  },
  {
   "cell_type": "code",
   "execution_count": 4,
   "id": "0141aba8",
   "metadata": {},
   "outputs": [],
   "source": [
    "def get_dataframe_info():\n",
    "    dbtable = pd.read_csv('./Raw-Data/Natural_Gas_Import_Quantity.csv')\n",
    "    \n",
    "    dbtable\n",
    "    \n",
    "    dbtable.shape #show how much columns and rows in the data frame\n",
    "    dbtable.dtypes #show the types of data in the frame\n",
    "    dbtable.info() #give a general view of what the data looks like for each column\n",
    "    dbtable.isna().all() #check to see if there is any rows are empty\n",
    "    dbtable.isna().any() #check to see if any value in each row is missing\n",
    "    dbtable.isna().sum() #return a sum of null number from each column"
   ]
  },
  {
   "cell_type": "code",
   "execution_count": 5,
   "id": "32f2ced4",
   "metadata": {},
   "outputs": [
    {
     "name": "stdout",
     "output_type": "stream",
     "text": [
      "<class 'pandas.core.frame.DataFrame'>\n",
      "RangeIndex: 626 entries, 0 to 625\n",
      "Data columns (total 2 columns):\n",
      " #   Column                                   Non-Null Count  Dtype \n",
      "---  ------                                   --------------  ----- \n",
      " 0   Back to Contents                         626 non-null    object\n",
      " 1   Data 1: U.S. Natural Gas Imports (MMcf)  626 non-null    object\n",
      "dtypes: object(2)\n",
      "memory usage: 9.9+ KB\n"
     ]
    }
   ],
   "source": [
    "get_dataframe_info()"
   ]
  }
 ],
 "metadata": {
  "kernelspec": {
   "display_name": "Python 3",
   "language": "python",
   "name": "python3"
  },
  "language_info": {
   "codemirror_mode": {
    "name": "ipython",
    "version": 3
   },
   "file_extension": ".py",
   "mimetype": "text/x-python",
   "name": "python",
   "nbconvert_exporter": "python",
   "pygments_lexer": "ipython3",
   "version": "3.12.1"
  }
 },
 "nbformat": 4,
 "nbformat_minor": 5
}
